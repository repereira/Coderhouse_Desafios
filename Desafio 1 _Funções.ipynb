{
 "cells": [
  {
   "cell_type": "markdown",
   "id": "fcc0c524",
   "metadata": {},
   "source": [
    "#### Nome: Renata Nunes Pereira"
   ]
  },
  {
   "cell_type": "markdown",
   "id": "9fa5ee30",
   "metadata": {},
   "source": [
    "### 1. Escrever uma função apra calcular o fatorial de um número qualquer:"
   ]
  },
  {
   "cell_type": "code",
   "execution_count": 6,
   "id": "65b438d0",
   "metadata": {},
   "outputs": [],
   "source": [
    "def fun_fatorial(x):\n",
    "    i = 1\n",
    "    fatorial = 1\n",
    "\n",
    "    while i <=x:\n",
    "        fatorial = fatorial * i\n",
    "        i += 1\n",
    "    return fatorial\n"
   ]
  },
  {
   "cell_type": "code",
   "execution_count": 9,
   "id": "86e1cae0",
   "metadata": {},
   "outputs": [
    {
     "data": {
      "text/plain": [
       "24"
      ]
     },
     "execution_count": 9,
     "metadata": {},
     "output_type": "execute_result"
    }
   ],
   "source": [
    "fun_fatorial(4)"
   ]
  },
  {
   "cell_type": "markdown",
   "id": "720b6707",
   "metadata": {},
   "source": [
    "### 2. Escrever uma função para calcular a soma de uma série começando por um número qualquer e terminando em outro número que deve ser maior que o primeiro:"
   ]
  },
  {
   "cell_type": "code",
   "execution_count": 30,
   "id": "5838759e",
   "metadata": {},
   "outputs": [],
   "source": [
    "def somatorio(lista):\n",
    "\n",
    "    soma = 0\n",
    "\n",
    "    for i in lista:\n",
    "  \n",
    "        soma = soma + i\n",
    "\n",
    "    return(soma)\n",
    "\n"
   ]
  },
  {
   "cell_type": "code",
   "execution_count": 47,
   "id": "bba6a9f5",
   "metadata": {},
   "outputs": [
    {
     "name": "stdout",
     "output_type": "stream",
     "text": [
      "16\n"
     ]
    }
   ],
   "source": [
    "lista = [2, 2, 3, 4, 5]\n",
    "\n",
    "if lista[-1] > lista[0]:\n",
    "    print(somatorio(lista))\n",
    "else:\n",
    "    print(\"O último elemento da lista deve ser maior que o primeiro\")\n",
    "    \n"
   ]
  },
  {
   "cell_type": "code",
   "execution_count": 46,
   "id": "20cb60b9",
   "metadata": {},
   "outputs": [
    {
     "name": "stdout",
     "output_type": "stream",
     "text": [
      "[2, 4, 6, 8]\n",
      "o somatório dos elementos da lista é 20\n"
     ]
    }
   ],
   "source": [
    "#ou:\n",
    "lista_1 = list(range(2,10,2))\n",
    "\n",
    "print(lista_1)\n",
    "\n",
    "print(\"o somatório dos elementos da lista é\", somatorio(lista_1))"
   ]
  }
 ],
 "metadata": {
  "kernelspec": {
   "display_name": "Python 3 (ipykernel)",
   "language": "python",
   "name": "python3"
  },
  "language_info": {
   "codemirror_mode": {
    "name": "ipython",
    "version": 3
   },
   "file_extension": ".py",
   "mimetype": "text/x-python",
   "name": "python",
   "nbconvert_exporter": "python",
   "pygments_lexer": "ipython3",
   "version": "3.9.7"
  }
 },
 "nbformat": 4,
 "nbformat_minor": 5
}
