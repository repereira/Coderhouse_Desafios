{
 "cells": [
  {
   "cell_type": "markdown",
   "id": "18fffee7",
   "metadata": {},
   "source": [
    "### Desafio 2: \n",
    "\n",
    "Nome: Renata Nunes Pereira\n"
   ]
  },
  {
   "cell_type": "markdown",
   "id": "a68f8ef3",
   "metadata": {},
   "source": [
    "1. Gerar um array aleatório de 100 elementos. Calcular a mediana correspondente."
   ]
  },
  {
   "cell_type": "code",
   "execution_count": 2,
   "id": "3458d481",
   "metadata": {},
   "outputs": [],
   "source": [
    "import numpy as np"
   ]
  },
  {
   "cell_type": "code",
   "execution_count": 18,
   "id": "26556e81",
   "metadata": {},
   "outputs": [
    {
     "data": {
      "text/plain": [
       "array([0.03588446, 0.74350135, 0.46677581, 0.90844971, 0.75856186,\n",
       "       0.08268323, 0.47214651, 0.14990179, 0.03867843, 0.70161285,\n",
       "       0.08749327, 0.72880161, 0.64477143, 0.63724225, 0.05672171,\n",
       "       0.83119725, 0.64280685, 0.71799276, 0.98402366, 0.92589843,\n",
       "       0.17023951, 0.78164129, 0.6852824 , 0.44768764, 0.52026122,\n",
       "       0.79767009, 0.16296736, 0.86857282, 0.4713812 , 0.52570522,\n",
       "       0.78333357, 0.20814663, 0.44384587, 0.31860606, 0.5338052 ,\n",
       "       0.68727312, 0.60175823, 0.92424153, 0.98094692, 0.56159349,\n",
       "       0.45338988, 0.636158  , 0.41590262, 0.52853222, 0.94748297,\n",
       "       0.74420508, 0.49276901, 0.79430742, 0.01751207, 0.02014803,\n",
       "       0.55027049, 0.43898051, 0.10614983, 0.76933306, 0.17765654,\n",
       "       0.27630439, 0.44353705, 0.51552874, 0.23868046, 0.31645396,\n",
       "       0.54716919, 0.26171169, 0.3657544 , 0.22144318, 0.18876414,\n",
       "       0.6567351 , 0.02569839, 0.12121106, 0.05074864, 0.15798818,\n",
       "       0.13043573, 0.81893387, 0.3090925 , 0.53781679, 0.43874923,\n",
       "       0.51162902, 0.08897536, 0.56757624, 0.29928461, 0.47759841,\n",
       "       0.58662505, 0.5850632 , 0.05423978, 0.41751996, 0.7139931 ,\n",
       "       0.41433737, 0.81413385, 0.78776431, 0.68800409, 0.86023227,\n",
       "       0.37057083, 0.08720579, 0.65767201, 0.78026183, 0.49013088,\n",
       "       0.26944359, 0.17951585, 0.65705183, 0.27589158, 0.31601987])"
      ]
     },
     "execution_count": 18,
     "metadata": {},
     "output_type": "execute_result"
    }
   ],
   "source": [
    "array = np.random.random(100)\n",
    "array"
   ]
  },
  {
   "cell_type": "code",
   "execution_count": 19,
   "id": "de7ac367",
   "metadata": {},
   "outputs": [
    {
     "name": "stdout",
     "output_type": "stream",
     "text": [
      "A mediana é 0.49\n"
     ]
    }
   ],
   "source": [
    "mediana = np.median(array)\n",
    "\n",
    "print(f'A mediana é {mediana:,.2f}')"
   ]
  },
  {
   "cell_type": "markdown",
   "id": "1c4aa1c9",
   "metadata": {},
   "source": [
    "2. Relembrar os exercícios com funções para cálculo de fatorial e soma de séries da Aula 02. Repetir os dois exercícios, mas agora utilizar novas operações aprendidas com os ndarrays."
   ]
  },
  {
   "cell_type": "markdown",
   "id": "de36fe13",
   "metadata": {},
   "source": [
    "2.1. Escrever uma função apra calcular o fatorial de um número qualquer"
   ]
  },
  {
   "cell_type": "code",
   "execution_count": 11,
   "id": "acd706d2",
   "metadata": {},
   "outputs": [],
   "source": [
    "def fatorial(n):\n",
    "    if n == 0 or n == 1:\n",
    "        return 1\n",
    "    else:\n",
    "        return n* fatorial(n-1)\n",
    "    "
   ]
  },
  {
   "cell_type": "code",
   "execution_count": 13,
   "id": "5e180e71",
   "metadata": {},
   "outputs": [
    {
     "data": {
      "text/plain": [
       "6"
      ]
     },
     "execution_count": 13,
     "metadata": {},
     "output_type": "execute_result"
    }
   ],
   "source": [
    "fatorial (3)"
   ]
  },
  {
   "cell_type": "markdown",
   "id": "0c3c6ccd",
   "metadata": {},
   "source": [
    "2.2. Escrever uma função para calcular a soma de uma série começando por um número qualquer e terminando em outro número que deve ser maior que o primeiro:"
   ]
  },
  {
   "cell_type": "code",
   "execution_count": 20,
   "id": "23de95c6",
   "metadata": {},
   "outputs": [],
   "source": [
    "def soma_serie(inicio, fim):\n",
    "    if inicio > fim:\n",
    "        return \"Início tem que ser menor ou igual ao fim\"\n",
    "    else:\n",
    "        soma = 0\n",
    "        for i in range(inicio, fim + 1):\n",
    "            soma += i\n",
    "        return soma"
   ]
  },
  {
   "cell_type": "code",
   "execution_count": 21,
   "id": "0ff35cca",
   "metadata": {},
   "outputs": [
    {
     "data": {
      "text/plain": [
       "15"
      ]
     },
     "execution_count": 21,
     "metadata": {},
     "output_type": "execute_result"
    }
   ],
   "source": [
    "soma_serie(1,5)"
   ]
  }
 ],
 "metadata": {
  "kernelspec": {
   "display_name": "Python 3 (ipykernel)",
   "language": "python",
   "name": "python3"
  },
  "language_info": {
   "codemirror_mode": {
    "name": "ipython",
    "version": 3
   },
   "file_extension": ".py",
   "mimetype": "text/x-python",
   "name": "python",
   "nbconvert_exporter": "python",
   "pygments_lexer": "ipython3",
   "version": "3.9.7"
  }
 },
 "nbformat": 4,
 "nbformat_minor": 5
}
